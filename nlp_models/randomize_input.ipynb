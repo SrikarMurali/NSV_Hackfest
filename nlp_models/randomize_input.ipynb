{
 "cells": [
  {
   "cell_type": "code",
   "execution_count": 1,
   "metadata": {
    "collapsed": true
   },
   "outputs": [],
   "source": [
    "import pandas as pd\n",
    "import numpy as np"
   ]
  },
  {
   "cell_type": "code",
   "execution_count": 4,
   "metadata": {},
   "outputs": [
    {
     "data": {
      "text/plain": [
       "(370, 6, 300)"
      ]
     },
     "execution_count": 4,
     "metadata": {},
     "output_type": "execute_result"
    }
   ],
   "source": [
    "input_vol = np.load('input_vol.npy')\n",
    "input_label = np.load('input_label.npy')\n",
    "input_vol.shape"
   ]
  },
  {
   "cell_type": "code",
   "execution_count": 8,
   "metadata": {},
   "outputs": [
    {
     "data": {
      "text/plain": [
       "array([184,  61, 336, 205,  50, 113, 362, 194, 127, 168, 250,  45,   9,\n",
       "       245, 114, 182,   5,  97, 230,  15, 209, 291, 299, 100, 124,  55,\n",
       "        68, 142, 193,  52,   1, 143, 224,  11,  99, 312, 158,  23,  64,\n",
       "       137,  54, 198, 223, 324,  16, 105, 183, 366, 147, 304, 270,   6,\n",
       "       207, 298, 107,  14, 279, 213,  44, 222, 315, 283, 249,  30, 314,\n",
       "       284, 328, 129, 119,  81, 115, 260, 333,  88, 272, 125,  27, 350,\n",
       "       318, 367,  38, 218, 263, 165, 338, 196, 356, 293, 289,  95, 273,\n",
       "         2,  60, 360, 135, 276, 153, 177, 351, 269, 307, 154,  17,  49,\n",
       "       339, 255, 305, 164, 274, 214, 337, 321, 210, 349, 189, 163, 104,\n",
       "        26, 239, 316,   3, 342, 308, 240,  86, 257, 136,  93, 208, 169,\n",
       "       368, 233, 170, 248, 131, 344, 191, 220, 253, 175, 325, 231, 243,\n",
       "        10,  70,  25,  62,  71, 217, 216, 134,  40, 323, 228, 354,  98,\n",
       "       361, 271,  12, 331,  46, 335, 121, 171, 343, 345, 227, 192, 130,\n",
       "       201,  63, 145,  53,  57,   8,  28, 295,  84, 102, 292, 278, 317,\n",
       "       341, 138, 173, 330, 326, 352,  96, 178,  73,  43,  77,  72, 128,\n",
       "       161,  22,  31, 247,  58,  79, 150, 268,  18,  37, 149, 116, 140,\n",
       "       156, 146, 162, 181, 204, 112,  59, 340, 254, 259, 364, 118, 294,\n",
       "       353, 320, 246, 369, 258,  19,  67,  56, 319, 206, 221, 202, 309,\n",
       "       329, 311, 188, 313, 122, 242,  39,  32,  80,  48,   4,   0, 139,\n",
       "        13, 355,  35, 123, 186, 300, 251, 187, 348, 111, 237, 159, 215,\n",
       "       363, 234, 160, 275,  47,  20, 346, 280, 332, 103, 212, 101, 199,\n",
       "        83, 310, 232, 120,  94, 219, 185,  65, 365, 286,  29, 288, 296,\n",
       "       203, 144, 277, 200,   7, 261,  76, 211,  21,  34, 226, 110,  87,\n",
       "       197, 225, 347, 267, 285,  66,  90, 358, 126, 152, 172, 157, 287,\n",
       "       133, 266, 290, 264, 327, 241, 252, 195, 109, 265, 235, 306, 236,\n",
       "        24, 180, 357,  41, 179, 117, 334, 151, 176,  82, 297, 155, 132,\n",
       "       302,  51,  42, 238, 190,  75, 262, 167,  33, 301,  78, 108, 303,\n",
       "        74, 359,  85,  92,  91, 282, 106, 322, 174, 244, 166,  89, 256,\n",
       "       281, 148, 141, 229,  69,  36])"
      ]
     },
     "execution_count": 8,
     "metadata": {},
     "output_type": "execute_result"
    }
   ],
   "source": [
    "s = np.arange(input_vol.shape[0])\n",
    "np.random.shuffle(s)\n",
    "s"
   ]
  },
  {
   "cell_type": "code",
   "execution_count": 12,
   "metadata": {},
   "outputs": [
    {
     "data": {
      "text/plain": [
       "array([ True,  True,  True,  True,  True,  True,  True,  True,  True,\n",
       "        True,  True,  True,  True,  True,  True,  True,  True,  True,\n",
       "        True,  True,  True,  True,  True,  True,  True,  True,  True,\n",
       "        True,  True,  True,  True,  True,  True,  True,  True,  True,\n",
       "        True,  True,  True,  True,  True,  True,  True,  True,  True,\n",
       "        True,  True,  True,  True,  True,  True,  True,  True,  True,\n",
       "        True,  True,  True,  True,  True,  True,  True,  True,  True,\n",
       "        True,  True,  True,  True,  True,  True,  True,  True,  True,\n",
       "        True,  True,  True,  True,  True,  True,  True,  True,  True,\n",
       "        True,  True,  True,  True,  True,  True,  True,  True,  True,\n",
       "        True,  True,  True,  True,  True,  True,  True,  True,  True,\n",
       "        True,  True,  True,  True,  True,  True,  True,  True,  True,\n",
       "        True,  True,  True,  True,  True,  True,  True,  True,  True,\n",
       "        True,  True,  True,  True,  True,  True,  True,  True,  True,\n",
       "        True,  True,  True,  True,  True,  True,  True,  True,  True,\n",
       "        True,  True,  True,  True,  True,  True,  True,  True,  True,\n",
       "        True,  True,  True,  True,  True,  True,  True,  True,  True,\n",
       "        True,  True,  True,  True,  True,  True,  True,  True,  True,\n",
       "        True,  True,  True,  True,  True,  True,  True,  True,  True,\n",
       "        True,  True,  True,  True,  True,  True,  True,  True,  True,\n",
       "        True,  True,  True,  True,  True,  True,  True,  True,  True,\n",
       "        True,  True,  True,  True,  True,  True,  True,  True,  True,\n",
       "        True,  True,  True,  True,  True,  True,  True,  True,  True,\n",
       "        True,  True,  True,  True,  True,  True,  True,  True,  True,\n",
       "        True,  True,  True,  True,  True,  True,  True,  True,  True,\n",
       "        True,  True,  True,  True,  True,  True,  True,  True,  True,\n",
       "        True,  True,  True,  True,  True,  True,  True,  True,  True,\n",
       "        True,  True,  True,  True,  True,  True,  True,  True,  True,\n",
       "        True,  True,  True,  True,  True,  True,  True,  True,  True,\n",
       "        True,  True,  True,  True,  True,  True,  True,  True,  True,\n",
       "        True,  True,  True,  True,  True,  True,  True,  True,  True,\n",
       "        True,  True,  True,  True,  True,  True,  True,  True,  True,\n",
       "        True,  True,  True,  True,  True,  True,  True,  True,  True,\n",
       "        True,  True,  True], dtype=bool)"
      ]
     },
     "execution_count": 12,
     "metadata": {},
     "output_type": "execute_result"
    }
   ],
   "source": [
    "input_vol[s][0][0] == input_vol[184][0]"
   ]
  },
  {
   "cell_type": "code",
   "execution_count": 17,
   "metadata": {},
   "outputs": [
    {
     "data": {
      "text/plain": [
       "array([ True,  True,  True,  True], dtype=bool)"
      ]
     },
     "execution_count": 17,
     "metadata": {},
     "output_type": "execute_result"
    }
   ],
   "source": [
    "input_label[s][0] == input_label[184] "
   ]
  },
  {
   "cell_type": "code",
   "execution_count": null,
   "metadata": {
    "collapsed": true
   },
   "outputs": [],
   "source": []
  }
 ],
 "metadata": {
  "anaconda-cloud": {},
  "kernelspec": {
   "display_name": "Python [conda root]",
   "language": "python",
   "name": "conda-root-py"
  },
  "language_info": {
   "codemirror_mode": {
    "name": "ipython",
    "version": 2
   },
   "file_extension": ".py",
   "mimetype": "text/x-python",
   "name": "python",
   "nbconvert_exporter": "python",
   "pygments_lexer": "ipython2",
   "version": "2.7.13"
  }
 },
 "nbformat": 4,
 "nbformat_minor": 2
}
