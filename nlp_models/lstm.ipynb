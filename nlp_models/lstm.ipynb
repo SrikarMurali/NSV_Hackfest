{
 "cells": [
  {
   "cell_type": "markdown",
   "metadata": {},
   "source": [
    "# NSV Hackfest LSTM Implementation\n",
    "\n",
    "\n",
    "### Important Notes\n",
    "- Input data is required as follows:\n",
    "    - labels in input_label.npy, as prepared in a different notebook\n",
    "        - dimensions are 370 x 4\n",
    "        - 370 is the number of behaviors the team extracted from literature and hand labelled\n",
    "        - 4 is the current number of violence types used as classes\n",
    "    - data in input_vol.npy, as prepared in another notebook\n",
    "        - dimensions are 370 x 6 x 300\n",
    "        - 370 is the number of behaviors the team extracted from literature and hand labelled\n",
    "        - 6 is the # of words in a behavioral phrase, padded with 0's if less than 6\n",
    "        - 300 is the depth of the word2vec encoding used\n",
    "- **YOU DO NOT NEED TO TRAIN A MODEL TO RUN THIS NOTEBOOK**\n",
    "    - run the imports, set parameters/load data\n",
    "    - Do not run the build LSTM layers\n",
    "    - skip to load model - it is highly recommended you load the data you trained it with\n",
    "    - Continue using the notebook\n",
    "        "
   ]
  },
  {
   "cell_type": "code",
   "execution_count": 1,
   "metadata": {},
   "outputs": [
    {
     "name": "stderr",
     "output_type": "stream",
     "text": [
      "Using TensorFlow backend.\n"
     ]
    }
   ],
   "source": [
    "from keras.models import Sequential, load_model\n",
    "from keras.layers import Dense, LSTM, Conv2D, Activation\n",
    "from keras.preprocessing import sequence\n",
    "from sklearn import metrics\n",
    "import random\n",
    "import numpy as np\n",
    "import itertools\n",
    "import matplotlib.pyplot as plt"
   ]
  },
  {
   "cell_type": "markdown",
   "metadata": {},
   "source": [
    "**SET Parameters and LOAD input data files**"
   ]
  },
  {
   "cell_type": "code",
   "execution_count": 6,
   "metadata": {},
   "outputs": [
    {
     "name": "stdout",
     "output_type": "stream",
     "text": [
      "(370, 6, 300)\n",
      "(370, 4)\n"
     ]
    }
   ],
   "source": [
    "# set parameters and load data\n",
    "epochs = 100\n",
    "batch_size = 10\n",
    "time_steps = 6\n",
    "features = 300\n",
    "\n",
    "features_path = 'input_vol.npy'\n",
    "labels_path = 'input_label.npy'\n",
    "\n",
    "X = np.load(features_path)\n",
    "Y = np.load(labels_path)\n",
    "print(X.shape)\n",
    "print(Y.shape)"
   ]
  },
  {
   "cell_type": "markdown",
   "metadata": {},
   "source": [
    "### IF YOU ARE CREATING A NEW SHUFFLE OF DATA FOR RETRAINING, CONTINUE HERE\n",
    "- Otherwise, skip down to LOAD MODEL"
   ]
  },
  {
   "cell_type": "code",
   "execution_count": 7,
   "metadata": {},
   "outputs": [],
   "source": [
    "# randomly shuffle data\n",
    "s = np.arange(X.shape[0])\n",
    "np.random.shuffle(s)\n",
    "X = X[s]\n",
    "Y = Y[s]"
   ]
  },
  {
   "cell_type": "code",
   "execution_count": 8,
   "metadata": {},
   "outputs": [],
   "source": [
    "# split data into train and test sets\n",
    "train_X = X[0:296,:,:]\n",
    "test_X = X[297:369,:,:]\n",
    "\n",
    "train_Y = Y[0:296,:]\n",
    "test_Y = Y[297:369,:]"
   ]
  },
  {
   "cell_type": "markdown",
   "metadata": {},
   "source": [
    "**BUILD LSTM LAYERS:**"
   ]
  },
  {
   "cell_type": "code",
   "execution_count": 9,
   "metadata": {},
   "outputs": [
    {
     "name": "stdout",
     "output_type": "stream",
     "text": [
      "_________________________________________________________________\n",
      "Layer (type)                 Output Shape              Param #   \n",
      "=================================================================\n",
      "lstm_1 (LSTM)                (None, 100)               160400    \n",
      "_________________________________________________________________\n",
      "activation_1 (Activation)    (None, 100)               0         \n",
      "_________________________________________________________________\n",
      "dense_1 (Dense)              (None, 4)                 404       \n",
      "=================================================================\n",
      "Total params: 160,804\n",
      "Trainable params: 160,804\n",
      "Non-trainable params: 0\n",
      "_________________________________________________________________\n",
      "None\n"
     ]
    }
   ],
   "source": [
    "# build LSTM layers and train model\n",
    "model = Sequential()\n",
    "model.add(LSTM(100, dropout= 0.2, input_shape=(time_steps, features)))\n",
    "model.add(Activation('relu'))\n",
    "model.add(Dense(4, activation='sigmoid'))\n",
    "model.compile(loss='binary_crossentropy', optimizer='adam', metrics=['accuracy'])\n",
    "print(model.summary())"
   ]
  },
  {
   "cell_type": "markdown",
   "metadata": {},
   "source": [
    "### ONLY RUN THE MODEL.FIT IF YOU WANT TO TRAIN THE LSTM FROM SCRATCH"
   ]
  },
  {
   "cell_type": "code",
   "execution_count": 5,
   "metadata": {},
   "outputs": [
    {
     "name": "stdout",
     "output_type": "stream",
     "text": [
      "_________________________________________________________________\n",
      "Layer (type)                 Output Shape              Param #   \n",
      "=================================================================\n",
      "lstm_1 (LSTM)                (None, 100)               160400    \n",
      "_________________________________________________________________\n",
      "activation_1 (Activation)    (None, 100)               0         \n",
      "_________________________________________________________________\n",
      "dense_1 (Dense)              (None, 4)                 404       \n",
      "=================================================================\n",
      "Total params: 160,804\n",
      "Trainable params: 160,804\n",
      "Non-trainable params: 0\n",
      "_________________________________________________________________\n",
      "None\n",
      "Train on 296 samples, validate on 72 samples\n",
      "Epoch 1/100\n",
      "296/296 [==============================] - 1s 4ms/step - loss: 0.6762 - acc: 0.6723 - val_loss: 0.6333 - val_acc: 0.6979\n",
      "Epoch 2/100\n",
      "296/296 [==============================] - 0s 1ms/step - loss: 0.5914 - acc: 0.7086 - val_loss: 0.5778 - val_acc: 0.6979\n",
      "Epoch 3/100\n",
      "296/296 [==============================] - 0s 1ms/step - loss: 0.5325 - acc: 0.7424 - val_loss: 0.5451 - val_acc: 0.7396\n",
      "Epoch 4/100\n",
      "296/296 [==============================] - 0s 1ms/step - loss: 0.4637 - acc: 0.7821 - val_loss: 0.5401 - val_acc: 0.7604\n",
      "Epoch 5/100\n",
      "296/296 [==============================] - 0s 1ms/step - loss: 0.4078 - acc: 0.8117 - val_loss: 0.5485 - val_acc: 0.7639\n",
      "Epoch 6/100\n",
      "296/296 [==============================] - 0s 1ms/step - loss: 0.3684 - acc: 0.8269 - val_loss: 0.5696 - val_acc: 0.7535\n",
      "Epoch 7/100\n",
      "296/296 [==============================] - 1s 2ms/step - loss: 0.3326 - acc: 0.8412 - val_loss: 0.5933 - val_acc: 0.7396\n",
      "Epoch 8/100\n",
      "296/296 [==============================] - 1s 2ms/step - loss: 0.3000 - acc: 0.8699 - val_loss: 0.6299 - val_acc: 0.7049\n",
      "Epoch 9/100\n",
      "296/296 [==============================] - 0s 1ms/step - loss: 0.2886 - acc: 0.8666 - val_loss: 0.6547 - val_acc: 0.7292\n",
      "Epoch 10/100\n",
      "296/296 [==============================] - 0s 1ms/step - loss: 0.2673 - acc: 0.8877 - val_loss: 0.6342 - val_acc: 0.7187\n",
      "Epoch 11/100\n",
      "296/296 [==============================] - 0s 1ms/step - loss: 0.2391 - acc: 0.8961 - val_loss: 0.6939 - val_acc: 0.7292\n",
      "Epoch 12/100\n",
      "296/296 [==============================] - 0s 1ms/step - loss: 0.2331 - acc: 0.8961 - val_loss: 0.6930 - val_acc: 0.7014\n",
      "Epoch 13/100\n",
      "296/296 [==============================] - 0s 1ms/step - loss: 0.2257 - acc: 0.9096 - val_loss: 0.7207 - val_acc: 0.7153\n",
      "Epoch 14/100\n",
      "296/296 [==============================] - 0s 1ms/step - loss: 0.2006 - acc: 0.9231 - val_loss: 0.7243 - val_acc: 0.7118\n",
      "Epoch 15/100\n",
      "296/296 [==============================] - 0s 1ms/step - loss: 0.1784 - acc: 0.9307 - val_loss: 0.7410 - val_acc: 0.7257\n",
      "Epoch 16/100\n",
      "296/296 [==============================] - 0s 1ms/step - loss: 0.1815 - acc: 0.9282 - val_loss: 0.7669 - val_acc: 0.7257\n",
      "Epoch 17/100\n",
      "296/296 [==============================] - 0s 1ms/step - loss: 0.1674 - acc: 0.9299 - val_loss: 0.8022 - val_acc: 0.7222\n",
      "Epoch 18/100\n",
      "296/296 [==============================] - 0s 1ms/step - loss: 0.1578 - acc: 0.9434 - val_loss: 0.8237 - val_acc: 0.7083\n",
      "Epoch 19/100\n",
      "296/296 [==============================] - 0s 1ms/step - loss: 0.1581 - acc: 0.9409 - val_loss: 0.8536 - val_acc: 0.7083\n",
      "Epoch 20/100\n",
      "296/296 [==============================] - 0s 1ms/step - loss: 0.1489 - acc: 0.9426 - val_loss: 0.8647 - val_acc: 0.7222\n",
      "Epoch 21/100\n",
      "296/296 [==============================] - 0s 1ms/step - loss: 0.1337 - acc: 0.9510 - val_loss: 0.8565 - val_acc: 0.7326\n",
      "Epoch 22/100\n",
      "296/296 [==============================] - 1s 2ms/step - loss: 0.1216 - acc: 0.9527 - val_loss: 0.8905 - val_acc: 0.7083\n",
      "Epoch 23/100\n",
      "296/296 [==============================] - 1s 2ms/step - loss: 0.1144 - acc: 0.9578 - val_loss: 0.8648 - val_acc: 0.7326\n",
      "Epoch 24/100\n",
      "296/296 [==============================] - 1s 2ms/step - loss: 0.1243 - acc: 0.9476 - val_loss: 0.9190 - val_acc: 0.7187\n",
      "Epoch 25/100\n",
      "296/296 [==============================] - 0s 1ms/step - loss: 0.1082 - acc: 0.9645 - val_loss: 0.8923 - val_acc: 0.7292\n",
      "Epoch 26/100\n",
      "296/296 [==============================] - 0s 1ms/step - loss: 0.0981 - acc: 0.9696 - val_loss: 0.9129 - val_acc: 0.7396\n",
      "Epoch 27/100\n",
      "296/296 [==============================] - 0s 1ms/step - loss: 0.0944 - acc: 0.9662 - val_loss: 0.9507 - val_acc: 0.7153\n",
      "Epoch 28/100\n",
      "296/296 [==============================] - 0s 1ms/step - loss: 0.0873 - acc: 0.9721 - val_loss: 0.9364 - val_acc: 0.7292\n",
      "Epoch 29/100\n",
      "296/296 [==============================] - 0s 1ms/step - loss: 0.0932 - acc: 0.9688 - val_loss: 0.9331 - val_acc: 0.7465\n",
      "Epoch 30/100\n",
      "296/296 [==============================] - 0s 1ms/step - loss: 0.0896 - acc: 0.9730 - val_loss: 0.9051 - val_acc: 0.7465\n",
      "Epoch 31/100\n",
      "296/296 [==============================] - 0s 1ms/step - loss: 0.0977 - acc: 0.9637 - val_loss: 0.9459 - val_acc: 0.7326\n",
      "Epoch 32/100\n",
      "296/296 [==============================] - 0s 1ms/step - loss: 0.0956 - acc: 0.9688 - val_loss: 0.9162 - val_acc: 0.7465\n",
      "Epoch 33/100\n",
      "296/296 [==============================] - 0s 1ms/step - loss: 0.0757 - acc: 0.9755 - val_loss: 0.9063 - val_acc: 0.7431\n",
      "Epoch 34/100\n",
      "296/296 [==============================] - 0s 1ms/step - loss: 0.0784 - acc: 0.9713 - val_loss: 0.9383 - val_acc: 0.7500\n",
      "Epoch 35/100\n",
      "296/296 [==============================] - 0s 1ms/step - loss: 0.0835 - acc: 0.9662 - val_loss: 0.9538 - val_acc: 0.7431\n",
      "Epoch 36/100\n",
      "296/296 [==============================] - 0s 1ms/step - loss: 0.0753 - acc: 0.9738 - val_loss: 0.9716 - val_acc: 0.7465\n",
      "Epoch 37/100\n",
      "296/296 [==============================] - 0s 1ms/step - loss: 0.0664 - acc: 0.9764 - val_loss: 0.9539 - val_acc: 0.7500\n",
      "Epoch 38/100\n",
      "296/296 [==============================] - 0s 1ms/step - loss: 0.0672 - acc: 0.9764 - val_loss: 0.9513 - val_acc: 0.7639\n",
      "Epoch 39/100\n",
      "296/296 [==============================] - 0s 1ms/step - loss: 0.0553 - acc: 0.9873 - val_loss: 0.9719 - val_acc: 0.7639\n",
      "Epoch 40/100\n",
      "296/296 [==============================] - 1s 2ms/step - loss: 0.0645 - acc: 0.9780 - val_loss: 1.0309 - val_acc: 0.7396\n",
      "Epoch 41/100\n",
      "296/296 [==============================] - 1s 2ms/step - loss: 0.0565 - acc: 0.9814 - val_loss: 1.0144 - val_acc: 0.7431\n",
      "Epoch 42/100\n",
      "296/296 [==============================] - 1s 3ms/step - loss: 0.0536 - acc: 0.9823 - val_loss: 1.0624 - val_acc: 0.7431\n",
      "Epoch 43/100\n",
      "296/296 [==============================] - 1s 2ms/step - loss: 0.0508 - acc: 0.9831 - val_loss: 1.0800 - val_acc: 0.7396\n",
      "Epoch 44/100\n",
      "296/296 [==============================] - 0s 1ms/step - loss: 0.0440 - acc: 0.9840 - val_loss: 1.0563 - val_acc: 0.7431\n",
      "Epoch 45/100\n",
      "296/296 [==============================] - 0s 1ms/step - loss: 0.0522 - acc: 0.9831 - val_loss: 1.0981 - val_acc: 0.7465\n",
      "Epoch 46/100\n",
      "296/296 [==============================] - 0s 1ms/step - loss: 0.0486 - acc: 0.9848 - val_loss: 1.1315 - val_acc: 0.7396\n",
      "Epoch 47/100\n",
      "296/296 [==============================] - 0s 1ms/step - loss: 0.0386 - acc: 0.9865 - val_loss: 1.1035 - val_acc: 0.7257\n",
      "Epoch 48/100\n",
      "296/296 [==============================] - 0s 1ms/step - loss: 0.0388 - acc: 0.9882 - val_loss: 1.0975 - val_acc: 0.7326\n",
      "Epoch 49/100\n",
      "296/296 [==============================] - 0s 1ms/step - loss: 0.0412 - acc: 0.9873 - val_loss: 1.1338 - val_acc: 0.7257\n",
      "Epoch 50/100\n",
      "296/296 [==============================] - 0s 1ms/step - loss: 0.0515 - acc: 0.9797 - val_loss: 1.0928 - val_acc: 0.7465\n",
      "Epoch 51/100\n",
      "296/296 [==============================] - 0s 1ms/step - loss: 0.0438 - acc: 0.9831 - val_loss: 1.1395 - val_acc: 0.7153\n",
      "Epoch 52/100\n",
      "296/296 [==============================] - 0s 2ms/step - loss: 0.0351 - acc: 0.9882 - val_loss: 1.1376 - val_acc: 0.7326\n",
      "Epoch 53/100\n",
      "296/296 [==============================] - 0s 1ms/step - loss: 0.0276 - acc: 0.9899 - val_loss: 1.1835 - val_acc: 0.7326\n",
      "Epoch 54/100\n",
      "296/296 [==============================] - 1s 2ms/step - loss: 0.0279 - acc: 0.9899 - val_loss: 1.1445 - val_acc: 0.7396\n",
      "Epoch 55/100\n",
      "296/296 [==============================] - 1s 2ms/step - loss: 0.0366 - acc: 0.9882 - val_loss: 1.1870 - val_acc: 0.7326\n",
      "Epoch 56/100\n"
     ]
    },
    {
     "name": "stdout",
     "output_type": "stream",
     "text": [
      "296/296 [==============================] - 1s 3ms/step - loss: 0.0480 - acc: 0.9823 - val_loss: 1.1603 - val_acc: 0.7465\n",
      "Epoch 57/100\n",
      "296/296 [==============================] - 1s 2ms/step - loss: 0.0383 - acc: 0.9873 - val_loss: 1.1686 - val_acc: 0.7500\n",
      "Epoch 58/100\n",
      "296/296 [==============================] - 1s 2ms/step - loss: 0.0304 - acc: 0.9890 - val_loss: 1.1998 - val_acc: 0.7361\n",
      "Epoch 59/100\n",
      "296/296 [==============================] - 1s 3ms/step - loss: 0.0248 - acc: 0.9924 - val_loss: 1.2205 - val_acc: 0.7257\n",
      "Epoch 60/100\n",
      "296/296 [==============================] - 1s 2ms/step - loss: 0.0266 - acc: 0.9941 - val_loss: 1.2048 - val_acc: 0.7326\n",
      "Epoch 61/100\n",
      "296/296 [==============================] - 0s 1ms/step - loss: 0.0361 - acc: 0.9882 - val_loss: 1.1843 - val_acc: 0.7326\n",
      "Epoch 62/100\n",
      "296/296 [==============================] - 1s 2ms/step - loss: 0.0496 - acc: 0.9823 - val_loss: 1.2045 - val_acc: 0.7326\n",
      "Epoch 63/100\n",
      "296/296 [==============================] - 1s 3ms/step - loss: 0.0231 - acc: 0.9924 - val_loss: 1.2151 - val_acc: 0.7292\n",
      "Epoch 64/100\n",
      "296/296 [==============================] - 0s 2ms/step - loss: 0.0251 - acc: 0.9907 - val_loss: 1.1612 - val_acc: 0.7465\n",
      "Epoch 65/100\n",
      "296/296 [==============================] - 0s 2ms/step - loss: 0.0244 - acc: 0.9890 - val_loss: 1.2062 - val_acc: 0.7500\n",
      "Epoch 66/100\n",
      "296/296 [==============================] - 0s 1ms/step - loss: 0.0380 - acc: 0.9865 - val_loss: 1.2212 - val_acc: 0.7500\n",
      "Epoch 67/100\n",
      "296/296 [==============================] - 0s 1ms/step - loss: 0.0253 - acc: 0.9907 - val_loss: 1.2565 - val_acc: 0.7222\n",
      "Epoch 68/100\n",
      "296/296 [==============================] - 1s 2ms/step - loss: 0.0429 - acc: 0.9840 - val_loss: 1.2565 - val_acc: 0.7465\n",
      "Epoch 69/100\n",
      "296/296 [==============================] - 0s 2ms/step - loss: 0.0273 - acc: 0.9916 - val_loss: 1.1981 - val_acc: 0.7396\n",
      "Epoch 70/100\n",
      "296/296 [==============================] - 0s 2ms/step - loss: 0.0208 - acc: 0.9907 - val_loss: 1.2184 - val_acc: 0.7396\n",
      "Epoch 71/100\n",
      "296/296 [==============================] - 0s 1ms/step - loss: 0.0175 - acc: 0.9916 - val_loss: 1.2154 - val_acc: 0.7500\n",
      "Epoch 72/100\n",
      "296/296 [==============================] - 0s 1ms/step - loss: 0.0195 - acc: 0.9916 - val_loss: 1.2047 - val_acc: 0.7535\n",
      "Epoch 73/100\n",
      "296/296 [==============================] - 0s 2ms/step - loss: 0.0177 - acc: 0.9932 - val_loss: 1.2203 - val_acc: 0.7639\n",
      "Epoch 74/100\n",
      "296/296 [==============================] - 0s 1ms/step - loss: 0.0203 - acc: 0.9924 - val_loss: 1.2621 - val_acc: 0.7257\n",
      "Epoch 75/100\n",
      "296/296 [==============================] - 0s 1ms/step - loss: 0.0171 - acc: 0.9916 - val_loss: 1.2840 - val_acc: 0.7292\n",
      "Epoch 76/100\n",
      "296/296 [==============================] - 0s 1ms/step - loss: 0.0297 - acc: 0.9890 - val_loss: 1.3448 - val_acc: 0.7014\n",
      "Epoch 77/100\n",
      "296/296 [==============================] - 0s 1ms/step - loss: 0.0194 - acc: 0.9932 - val_loss: 1.2911 - val_acc: 0.7292\n",
      "Epoch 78/100\n",
      "296/296 [==============================] - 0s 1ms/step - loss: 0.0202 - acc: 0.9924 - val_loss: 1.2589 - val_acc: 0.7500\n",
      "Epoch 79/100\n",
      "296/296 [==============================] - 0s 1ms/step - loss: 0.0256 - acc: 0.9890 - val_loss: 1.2443 - val_acc: 0.7604\n",
      "Epoch 80/100\n",
      "296/296 [==============================] - 0s 2ms/step - loss: 0.0268 - acc: 0.9890 - val_loss: 1.2108 - val_acc: 0.7535\n",
      "Epoch 81/100\n",
      "296/296 [==============================] - 0s 1ms/step - loss: 0.0226 - acc: 0.9916 - val_loss: 1.2129 - val_acc: 0.7431\n",
      "Epoch 82/100\n",
      "296/296 [==============================] - 0s 1ms/step - loss: 0.0217 - acc: 0.9890 - val_loss: 1.2402 - val_acc: 0.7465\n",
      "Epoch 83/100\n",
      "296/296 [==============================] - 0s 2ms/step - loss: 0.0241 - acc: 0.9873 - val_loss: 1.2075 - val_acc: 0.7604\n",
      "Epoch 84/100\n",
      "296/296 [==============================] - 0s 1ms/step - loss: 0.0174 - acc: 0.9916 - val_loss: 1.2364 - val_acc: 0.7361\n",
      "Epoch 85/100\n",
      "296/296 [==============================] - 0s 1ms/step - loss: 0.0142 - acc: 0.9924 - val_loss: 1.2613 - val_acc: 0.7500\n",
      "Epoch 86/100\n",
      "296/296 [==============================] - 0s 1ms/step - loss: 0.0132 - acc: 0.9949 - val_loss: 1.2513 - val_acc: 0.7500\n",
      "Epoch 87/100\n",
      "296/296 [==============================] - 0s 1ms/step - loss: 0.0153 - acc: 0.9941 - val_loss: 1.2415 - val_acc: 0.7465\n",
      "Epoch 88/100\n",
      "296/296 [==============================] - 0s 1ms/step - loss: 0.0157 - acc: 0.9949 - val_loss: 1.2571 - val_acc: 0.7500\n",
      "Epoch 89/100\n",
      "296/296 [==============================] - 0s 1ms/step - loss: 0.0173 - acc: 0.9924 - val_loss: 1.2748 - val_acc: 0.7153\n",
      "Epoch 90/100\n",
      "296/296 [==============================] - 0s 1ms/step - loss: 0.0126 - acc: 0.9941 - val_loss: 1.2236 - val_acc: 0.7674\n",
      "Epoch 91/100\n",
      "296/296 [==============================] - 0s 1ms/step - loss: 0.0156 - acc: 0.9932 - val_loss: 1.2291 - val_acc: 0.7569\n",
      "Epoch 92/100\n",
      "296/296 [==============================] - 0s 2ms/step - loss: 0.0260 - acc: 0.9882 - val_loss: 1.2831 - val_acc: 0.7604\n",
      "Epoch 93/100\n",
      "296/296 [==============================] - 0s 1ms/step - loss: 0.0152 - acc: 0.9949 - val_loss: 1.2655 - val_acc: 0.7535\n",
      "Epoch 94/100\n",
      "296/296 [==============================] - 0s 1ms/step - loss: 0.0139 - acc: 0.9924 - val_loss: 1.3079 - val_acc: 0.7431\n",
      "Epoch 95/100\n",
      "296/296 [==============================] - 0s 1ms/step - loss: 0.0142 - acc: 0.9949 - val_loss: 1.2913 - val_acc: 0.7431\n",
      "Epoch 96/100\n",
      "296/296 [==============================] - 0s 1ms/step - loss: 0.0107 - acc: 0.9958 - val_loss: 1.3129 - val_acc: 0.7361\n",
      "Epoch 97/100\n",
      "296/296 [==============================] - 0s 1ms/step - loss: 0.0153 - acc: 0.9949 - val_loss: 1.2974 - val_acc: 0.7465\n",
      "Epoch 98/100\n",
      "296/296 [==============================] - 0s 1ms/step - loss: 0.0102 - acc: 0.9958 - val_loss: 1.3150 - val_acc: 0.7431\n",
      "Epoch 99/100\n",
      "296/296 [==============================] - 0s 1ms/step - loss: 0.0202 - acc: 0.9907 - val_loss: 1.3444 - val_acc: 0.7569\n",
      "Epoch 100/100\n",
      "296/296 [==============================] - 0s 1ms/step - loss: 0.0141 - acc: 0.9958 - val_loss: 1.3313 - val_acc: 0.7396\n"
     ]
    },
    {
     "data": {
      "text/plain": [
       "<keras.callbacks.History at 0x1d8ae6349e8>"
      ]
     },
     "execution_count": 5,
     "metadata": {},
     "output_type": "execute_result"
    }
   ],
   "source": [
    "model.fit(train_X, train_Y, validation_data=(test_X, test_Y), epochs=epochs, batch_size=batch_size)"
   ]
  },
  {
   "cell_type": "markdown",
   "metadata": {},
   "source": [
    "**OPTIONAL SAVE (careful! don't overwrite your previous save)**"
   ]
  },
  {
   "cell_type": "code",
   "execution_count": 65,
   "metadata": {},
   "outputs": [],
   "source": [
    "# save model\n",
    "# model.save('model.h5')\n",
    "# np.save('train_X',train_X)\n",
    "# np.save('train_y',train_Y)\n",
    "# np.save('test_X',test_X)\n",
    "# np.save('test_Y',test_Y)"
   ]
  },
  {
   "cell_type": "markdown",
   "metadata": {},
   "source": [
    "### LOAD SAVED MODEL HERE"
   ]
  },
  {
   "cell_type": "markdown",
   "metadata": {},
   "source": [
    "- load model and data, otherwise accuracies are going to be off"
   ]
  },
  {
   "cell_type": "code",
   "execution_count": 10,
   "metadata": {},
   "outputs": [],
   "source": [
    "# load model & data/shuffle it was generated with:\n",
    "model = load_model('model.h5')\n",
    "train_X = np.load('train_X.npy')\n",
    "train_Y = np.load('train_Y.npy')\n",
    "test_X = np.load('test_X.npy')\n",
    "test_Y = np.load('test_Y.npy')"
   ]
  },
  {
   "cell_type": "code",
   "execution_count": 11,
   "metadata": {},
   "outputs": [
    {
     "name": "stdout",
     "output_type": "stream",
     "text": [
      "Accuracy: 73.96%\n"
     ]
    }
   ],
   "source": [
    "# score model and log accuracy\n",
    "scores = model.evaluate(test_X, test_Y, verbose=0)\n",
    "print(\"Accuracy: %.2f%%\" % (scores[1]*100))"
   ]
  },
  {
   "cell_type": "code",
   "execution_count": 12,
   "metadata": {},
   "outputs": [
    {
     "data": {
      "text/plain": [
       "array([[  9.71438348e-01,   2.12540937e-04,   1.37556484e-03,\n",
       "          3.06578761e-04],\n",
       "       [  1.24091851e-02,   9.98596847e-01,   3.12259346e-01,\n",
       "          1.27248772e-04],\n",
       "       [  6.20450126e-04,   3.22170183e-03,   9.41281021e-01,\n",
       "          9.98198926e-01],\n",
       "       [  1.15530530e-03,   2.68097175e-03,   3.09408503e-03,\n",
       "          9.99265134e-01],\n",
       "       [  9.97535229e-01,   1.02909142e-02,   9.86129105e-01,\n",
       "          1.99471833e-04],\n",
       "       [  6.79294532e-03,   1.97275294e-04,   9.27829096e-05,\n",
       "          1.11442972e-02],\n",
       "       [  1.09338039e-03,   5.13771607e-04,   1.68889310e-04,\n",
       "          2.39704925e-04],\n",
       "       [  5.30121103e-03,   5.56225896e-05,   1.93081127e-04,\n",
       "          1.47235848e-03],\n",
       "       [  9.18874264e-01,   3.89384245e-03,   1.25234819e-03,\n",
       "          1.05569707e-04],\n",
       "       [  8.66272487e-03,   2.16032815e-04,   9.31978583e-01,\n",
       "          3.13994810e-02],\n",
       "       [  2.71679908e-02,   1.41049488e-04,   9.88988340e-01,\n",
       "          2.83243810e-03],\n",
       "       [  2.25122586e-01,   9.95625496e-01,   9.89385188e-01,\n",
       "          1.90125967e-04],\n",
       "       [  9.99193966e-01,   3.47900875e-02,   9.97173429e-01,\n",
       "          9.15698416e-04],\n",
       "       [  9.89573419e-01,   1.35590881e-02,   9.56788003e-01,\n",
       "          9.99357522e-01],\n",
       "       [  6.54582749e-04,   8.37030530e-04,   1.01240614e-04,\n",
       "          3.20770690e-04],\n",
       "       [  7.60909691e-02,   2.37426162e-02,   7.78775197e-04,\n",
       "          3.64235230e-02],\n",
       "       [  1.26193772e-04,   3.47429402e-02,   2.14794534e-03,\n",
       "          9.46169719e-04],\n",
       "       [  9.98848081e-01,   3.81761743e-03,   1.38152251e-03,\n",
       "          3.94296832e-04],\n",
       "       [  1.45087994e-04,   9.98743117e-01,   1.36611760e-01,\n",
       "          5.42555988e-01],\n",
       "       [  9.85145688e-01,   3.57141183e-03,   9.96009588e-01,\n",
       "          1.08034094e-03],\n",
       "       [  3.13502759e-01,   9.99668717e-01,   4.65554092e-03,\n",
       "          4.14587150e-04],\n",
       "       [  9.98909473e-01,   1.61985552e-03,   9.98295844e-01,\n",
       "          8.21871102e-01],\n",
       "       [  3.15358187e-03,   1.20916287e-03,   7.50653780e-05,\n",
       "          2.46270880e-04],\n",
       "       [  5.27495027e-01,   1.52425806e-03,   5.94323901e-05,\n",
       "          9.76778984e-01],\n",
       "       [  7.24441779e-04,   2.05274418e-01,   3.11851352e-01,\n",
       "          9.99198139e-01],\n",
       "       [  4.12773453e-02,   3.83997619e-01,   2.34111270e-04,\n",
       "          9.98581290e-01],\n",
       "       [  2.16554059e-03,   2.55979336e-04,   4.13997914e-04,\n",
       "          2.61095964e-04],\n",
       "       [  1.77639667e-02,   7.07318366e-01,   1.25238870e-03,\n",
       "          9.99526262e-01],\n",
       "       [  7.80102040e-04,   1.94467779e-04,   1.27466395e-04,\n",
       "          4.03393875e-04],\n",
       "       [  1.17407274e-03,   2.07574689e-04,   1.19435492e-04,\n",
       "          2.71934929e-04]], dtype=float32)"
      ]
     },
     "execution_count": 12,
     "metadata": {},
     "output_type": "execute_result"
    }
   ],
   "source": [
    "# get predictions\n",
    "y_pred = model.predict(test_X)\n",
    "y_pred[:30]"
   ]
  },
  {
   "cell_type": "code",
   "execution_count": 13,
   "metadata": {},
   "outputs": [
    {
     "data": {
      "text/plain": [
       "['0000',\n",
       " '1000',\n",
       " '0100',\n",
       " '0010',\n",
       " '0001',\n",
       " '1100',\n",
       " '1010',\n",
       " '1001',\n",
       " '0110',\n",
       " '0101',\n",
       " '0011',\n",
       " '1110',\n",
       " '1101',\n",
       " '1011',\n",
       " '0111',\n",
       " '1111']"
      ]
     },
     "execution_count": 13,
     "metadata": {},
     "output_type": "execute_result"
    }
   ],
   "source": [
    "# create list of classes for input to confusion matrix\n",
    "all_permutations = [[0,0,0,0],[1,0,0,0],[0,1,0,0],[0,0,1,0],[0,0,0,1],[1,1,0,0],[1,0,1,0],[1,0,0,1],[0,1,1,0],[0,1,0,1],[0,0,1,1],[1,1,1,0],[1,1,0,1],[1,0,1,1],[0,1,1,1],[1,1,1,1]]\n",
    "classes = []\n",
    "for label in all_permutations:\n",
    "    val = \"\"\n",
    "    for x in label:\n",
    "        val = val + str(int(x))\n",
    "    classes.append(val)\n",
    "    \n",
    "classes"
   ]
  },
  {
   "cell_type": "code",
   "execution_count": 14,
   "metadata": {},
   "outputs": [
    {
     "name": "stdout",
     "output_type": "stream",
     "text": [
      "['1000', '0100', '0011', '0001', '1010', '0000', '0000', '0000', '1000', '0010', '0010', '0110', '1010', '1011', '0000', '0000', '0000', '1000', '0100', '1010', '0100', '1011', '0000', '0001', '0001', '0001', '0000', '0001', '0000', '0000', '0010', '1000', '0010', '0000', '0011', '1000', '0000', '0000', '0000', '1000', '0010', '0000', '0011', '1011', '1000', '1001', '1110', '0010', '0000', '0010', '0010', '0000', '0010', '0010', '0100', '1111', '0000', '0000', '1010', '1010', '1010', '0000', '0101', '0000', '1010', '0001', '1010', '0010', '1000', '0111', '0010', '0110']\n"
     ]
    }
   ],
   "source": [
    "# create y true and y predictions to input into confusion matrix\n",
    "# values must be strings or ints for scikit-learn's confusion matrix, so we must transform them\n",
    "yt = []\n",
    "for label in test_Y:\n",
    "    val = \"\"\n",
    "    for x in label:\n",
    "        val = val + str(int(x))\n",
    "    yt.append(val)\n",
    "    \n",
    "yp = []\n",
    "for label in y_pred:\n",
    "    val = \"\"\n",
    "    for x in label:\n",
    "        \n",
    "        val = val + str(int(0 if x < 0.8 else 1))\n",
    "    yp.append(val)\n",
    "\n",
    "print(yp)"
   ]
  },
  {
   "cell_type": "code",
   "execution_count": 15,
   "metadata": {},
   "outputs": [
    {
     "data": {
      "text/plain": [
       "array([[10,  4,  1,  4,  0,  0,  2,  0,  0,  0,  0,  0,  0,  0,  0,  0],\n",
       "       [ 3,  1,  1,  1,  0,  0,  0,  0,  1,  0,  0,  0,  0,  0,  0,  0],\n",
       "       [ 2,  0,  0,  0,  0,  0,  1,  0,  0,  0,  0,  0,  0,  0,  0,  0],\n",
       "       [ 0,  2,  0,  2,  1,  0,  2,  0,  0,  0,  0,  0,  0,  1,  0,  0],\n",
       "       [ 4,  0,  0,  0,  2,  0,  0,  0,  0,  0,  0,  0,  0,  0,  0,  0],\n",
       "       [ 0,  0,  0,  1,  0,  0,  0,  0,  0,  0,  0,  0,  0,  0,  0,  0],\n",
       "       [ 1,  1,  1,  0,  0,  0,  1,  0,  1,  0,  0,  0,  0,  0,  0,  0],\n",
       "       [ 0,  0,  0,  0,  0,  0,  0,  1,  0,  0,  0,  0,  0,  0,  0,  0],\n",
       "       [ 1,  0,  0,  1,  0,  0,  0,  0,  0,  0,  0,  0,  0,  0,  0,  0],\n",
       "       [ 0,  0,  1,  0,  1,  0,  0,  0,  0,  0,  0,  0,  0,  1,  0,  0],\n",
       "       [ 0,  0,  0,  2,  1,  0,  0,  0,  0,  1,  2,  0,  0,  0,  0,  0],\n",
       "       [ 0,  0,  0,  1,  0,  0,  1,  0,  0,  0,  0,  1,  0,  0,  0,  1],\n",
       "       [ 0,  0,  0,  0,  1,  0,  0,  0,  0,  0,  0,  0,  0,  1,  0,  0],\n",
       "       [ 0,  0,  0,  0,  0,  0,  1,  0,  0,  0,  0,  0,  0,  0,  0,  0],\n",
       "       [ 0,  0,  0,  0,  0,  0,  0,  0,  0,  0,  1,  0,  0,  0,  1,  0],\n",
       "       [ 0,  0,  0,  0,  0,  0,  0,  0,  0,  0,  0,  0,  0,  0,  0,  0]], dtype=int64)"
      ]
     },
     "execution_count": 15,
     "metadata": {},
     "output_type": "execute_result"
    }
   ],
   "source": [
    "confusion = metrics.confusion_matrix(yt, yp, labels=classes)\n",
    "confusion"
   ]
  },
  {
   "cell_type": "code",
   "execution_count": 16,
   "metadata": {},
   "outputs": [],
   "source": [
    "# plot confusion matrix with ALL class labels\n",
    "\n",
    "def plot_confusion_matrix(cm, classes,\n",
    "                          normalize=False,\n",
    "                          title='Confusion matrix',\n",
    "                          cmap=plt.cm.Blues):\n",
    "    \"\"\"\n",
    "    This function prints and plots the confusion matrix.\n",
    "    Normalization can be applied by setting `normalize=True`.\n",
    "    \"\"\"\n",
    "    if normalize:\n",
    "        cm = cm.astype('float') / cm.sum(axis=1)[:, np.newaxis]\n",
    "        print(\"Normalized confusion matrix\")\n",
    "    else:\n",
    "        print('Confusion matrix, without normalization')\n",
    "\n",
    "    print(cm)\n",
    "\n",
    "    plt.figure(figsize=(10,10))\n",
    "    plt.imshow(cm, interpolation='nearest', cmap=cmap)\n",
    "    plt.title(title)\n",
    "    plt.colorbar()\n",
    "    tick_marks = np.arange(len(classes))\n",
    "    plt.xticks(tick_marks, classes, rotation=45)\n",
    "    plt.yticks(tick_marks, classes)\n",
    "\n",
    "    fmt = '.2f' if normalize else 'd'\n",
    "    thresh = cm.max() / 2.\n",
    "    for i, j in itertools.product(range(cm.shape[0]), range(cm.shape[1])):\n",
    "        plt.text(j, i, format(cm[i, j], fmt),\n",
    "                 horizontalalignment=\"center\",\n",
    "                 color=\"white\" if cm[i, j] > thresh else \"black\")\n",
    "    plt.ylabel('True label')\n",
    "    plt.xlabel('Predicted label')\n",
    "    plt.tight_layout()\n"
   ]
  },
  {
   "cell_type": "code",
   "execution_count": 17,
   "metadata": {},
   "outputs": [
    {
     "name": "stdout",
     "output_type": "stream",
     "text": [
      "Confusion matrix, without normalization\n",
      "[[10  4  1  4  0  0  2  0  0  0  0  0  0  0  0  0]\n",
      " [ 3  1  1  1  0  0  0  0  1  0  0  0  0  0  0  0]\n",
      " [ 2  0  0  0  0  0  1  0  0  0  0  0  0  0  0  0]\n",
      " [ 0  2  0  2  1  0  2  0  0  0  0  0  0  1  0  0]\n",
      " [ 4  0  0  0  2  0  0  0  0  0  0  0  0  0  0  0]\n",
      " [ 0  0  0  1  0  0  0  0  0  0  0  0  0  0  0  0]\n",
      " [ 1  1  1  0  0  0  1  0  1  0  0  0  0  0  0  0]\n",
      " [ 0  0  0  0  0  0  0  1  0  0  0  0  0  0  0  0]\n",
      " [ 1  0  0  1  0  0  0  0  0  0  0  0  0  0  0  0]\n",
      " [ 0  0  1  0  1  0  0  0  0  0  0  0  0  1  0  0]\n",
      " [ 0  0  0  2  1  0  0  0  0  1  2  0  0  0  0  0]\n",
      " [ 0  0  0  1  0  0  1  0  0  0  0  1  0  0  0  1]\n",
      " [ 0  0  0  0  1  0  0  0  0  0  0  0  0  1  0  0]\n",
      " [ 0  0  0  0  0  0  1  0  0  0  0  0  0  0  0  0]\n",
      " [ 0  0  0  0  0  0  0  0  0  0  1  0  0  0  1  0]\n",
      " [ 0  0  0  0  0  0  0  0  0  0  0  0  0  0  0  0]]\n"
     ]
    },
    {
     "data": {
      "text/plain": [
       "<matplotlib.figure.Figure at 0x19cd45fb940>"
      ]
     },
     "metadata": {},
     "output_type": "display_data"
    },
    {
     "data": {
      "image/png": "[encoded data removed]",
      "text/plain": [
       "<matplotlib.figure.Figure at 0x19cdf24c0f0>"
      ]
     },
     "metadata": {},
     "output_type": "display_data"
    }
   ],
   "source": [
    "# compute confusion matrix\n",
    "np.set_printoptions(precision=2)\n",
    "\n",
    "# Plot non-normalized confusion matrix\n",
    "plt.figure()\n",
    "plot_confusion_matrix(confusion, classes=classes, title='Confusion matrix')\n",
    "\n",
    "plt.show()"
   ]
  },
  {
   "cell_type": "code",
   "execution_count": null,
   "metadata": {},
   "outputs": [],
   "source": []
  }
 ],
 "metadata": {
  "kernelspec": {
   "display_name": "Python 3",
   "language": "python",
   "name": "python3"
  },
  "language_info": {
   "codemirror_mode": {
    "name": "ipython",
    "version": 3
   },
   "file_extension": ".py",
   "mimetype": "text/x-python",
   "name": "python",
   "nbconvert_exporter": "python",
   "pygments_lexer": "ipython3",
   "version": "3.6.3"
  }
 },
 "nbformat": 4,
 "nbformat_minor": 2
}
